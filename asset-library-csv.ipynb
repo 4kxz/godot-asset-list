{
 "cells": [
  {
   "cell_type": "code",
   "execution_count": null,
   "id": "3e126ec9",
   "metadata": {},
   "outputs": [],
   "source": [
    "import time\n",
    "import pandas as pd\n",
    "import traceback\n",
    "from requests import get\n",
    "from bs4 import BeautifulSoup\n",
    "\n",
    "BASE_URL = \"https://godotengine.org\"\n",
    "\n",
    "asset_dict = {}\n",
    "failed = set()"
   ]
  },
  {
   "cell_type": "code",
   "execution_count": null,
   "id": "036d1dd9",
   "metadata": {},
   "outputs": [],
   "source": [
    "for p in range(24):\n",
    "    page_url = f'{BASE_URL}/asset-library/asset?max_results=100&page={p}&sort=updated'\n",
    "    print(page_url)\n",
    "    bs = BeautifulSoup(get(page_url).text)\n",
    "    for item in bs.select('.asset-item'):\n",
    "        header = item.select_one('.asset-header')\n",
    "        asset_url = BASE_URL + header.get('href')\n",
    "        # print(asset_url)\n",
    "        if asset_url in asset_dict:\n",
    "            continue\n",
    "        try:\n",
    "            bs_i = BeautifulSoup(get(asset_url).text)\n",
    "            repo_url = bs_i.select_one('.container a.btn-default').get('href')\n",
    "            if 'github' in repo_url:\n",
    "                repo_url = '/'.join(repo_url.split('/', 5)[:5])\n",
    "                bs_r = BeautifulSoup(get(repo_url).text)\n",
    "                stars = bs_r.select_one('.js-social-count').text\n",
    "            elif 'gitlab' in repo_url:\n",
    "                bs_r = BeautifulSoup(get(repo_url).text)\n",
    "                stars = bs_r.select_one('.star-count').text\n",
    "            else:\n",
    "                starts = \"0\"\n",
    "            asset_dict[asset_url] = {\n",
    "                'name': item.select_one('.asset-title h4').text,\n",
    "                'asset_url': asset_url,\n",
    "                'repo_url': repo_url,\n",
    "                'stars': stars,\n",
    "                'godot_version': item.select_one('.asset-tags .label-info').text,\n",
    "                'last_updated': item.select_one('.asset-footer span').text.rsplit('|')[-1],\n",
    "            }\n",
    "        except Exception as e:\n",
    "            failed.add(asset_url)\n",
    "            traceback.print_exc()\n",
    "        time.sleep(0.2)"
   ]
  },
  {
   "cell_type": "code",
   "execution_count": null,
   "id": "624bc5bc",
   "metadata": {},
   "outputs": [],
   "source": [
    "df = pd.DataFrame.from_records(list(asset_dict.values()))\n",
    "df[\"stars\"] = pd.to_numeric(df[\"stars\"].apply(lambda x: x.replace(\".\", \"\").replace(\"k\", \"00\")))\n",
    "df.sort_values(\"stars\", ascending=False).to_csv(\"index.csv\")"
   ]
  },
  {
   "cell_type": "code",
   "execution_count": null,
   "id": "19649849-81fd-4732-8e7e-24d95ae98050",
   "metadata": {},
   "outputs": [],
   "source": [
    "len(asset_dict)"
   ]
  },
  {
   "cell_type": "code",
   "execution_count": null,
   "id": "e0acee17-8fd9-4980-9ce9-617f17498ca2",
   "metadata": {},
   "outputs": [],
   "source": []
  }
 ],
 "metadata": {
  "kernelspec": {
   "display_name": "Python 3 (ipykernel)",
   "language": "python",
   "name": "python3"
  },
  "language_info": {
   "codemirror_mode": {
    "name": "ipython",
    "version": 3
   },
   "file_extension": ".py",
   "mimetype": "text/x-python",
   "name": "python",
   "nbconvert_exporter": "python",
   "pygments_lexer": "ipython3",
   "version": "3.11.6"
  }
 },
 "nbformat": 4,
 "nbformat_minor": 5
}
